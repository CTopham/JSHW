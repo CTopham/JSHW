{
 "cells": [
  {
   "cell_type": "code",
   "execution_count": 1,
   "metadata": {},
   "outputs": [],
   "source": [
    "# Dependencies and Setup\n",
    "import pandas as pd\n",
    "import numpy as np\n",
    "\n",
    "# File to Load (Remember to Change These)\n",
    "file_to_load_json = \"jayconv.json\"\n",
    "\n",
    "# Read Purchasing File and store into Pandas data frame\n",
    "df = pd.read_json(file_to_load_json, orient=\"records\")"
   ]
  },
  {
   "cell_type": "code",
   "execution_count": 2,
   "metadata": {},
   "outputs": [
    {
     "data": {
      "text/plain": [
       "city                       object\n",
       "comments                   object\n",
       "country                    object\n",
       "datetime           datetime64[ns]\n",
       "durationMinutes            object\n",
       "shape                      object\n",
       "state                      object\n",
       "dtype: object"
      ]
     },
     "execution_count": 2,
     "metadata": {},
     "output_type": "execute_result"
    }
   ],
   "source": [
    "df.dtypes"
   ]
  },
  {
   "cell_type": "code",
   "execution_count": 3,
   "metadata": {},
   "outputs": [],
   "source": [
    "df['datetime'] = df['datetime'].dt.strftime('%m/%d/%Y')"
   ]
  },
  {
   "cell_type": "code",
   "execution_count": 4,
   "metadata": {},
   "outputs": [],
   "source": [
    "df['datetime'] = df['datetime'].astype(str)"
   ]
  },
  {
   "cell_type": "code",
   "execution_count": 6,
   "metadata": {},
   "outputs": [
    {
     "data": {
      "text/html": [
       "<div>\n",
       "<style scoped>\n",
       "    .dataframe tbody tr th:only-of-type {\n",
       "        vertical-align: middle;\n",
       "    }\n",
       "\n",
       "    .dataframe tbody tr th {\n",
       "        vertical-align: top;\n",
       "    }\n",
       "\n",
       "    .dataframe thead th {\n",
       "        text-align: right;\n",
       "    }\n",
       "</style>\n",
       "<table border=\"1\" class=\"dataframe\">\n",
       "  <thead>\n",
       "    <tr style=\"text-align: right;\">\n",
       "      <th></th>\n",
       "      <th>datetime</th>\n",
       "      <th>city</th>\n",
       "      <th>state</th>\n",
       "      <th>country</th>\n",
       "      <th>durationMinutes</th>\n",
       "      <th>shape</th>\n",
       "      <th>comments</th>\n",
       "    </tr>\n",
       "  </thead>\n",
       "  <tbody>\n",
       "    <tr>\n",
       "      <th>0</th>\n",
       "      <td>01/01/2010</td>\n",
       "      <td>benton</td>\n",
       "      <td>ar</td>\n",
       "      <td>us</td>\n",
       "      <td>5 mins.</td>\n",
       "      <td>circle</td>\n",
       "      <td>4 bright green circles high in the sky going i...</td>\n",
       "    </tr>\n",
       "    <tr>\n",
       "      <th>1</th>\n",
       "      <td>01/01/2010</td>\n",
       "      <td>bonita</td>\n",
       "      <td>ca</td>\n",
       "      <td>us</td>\n",
       "      <td>13 minutes</td>\n",
       "      <td>light</td>\n",
       "      <td>Three bright red lights witnessed floating sta...</td>\n",
       "    </tr>\n",
       "    <tr>\n",
       "      <th>2</th>\n",
       "      <td>01/01/2010</td>\n",
       "      <td>el cajon</td>\n",
       "      <td>ca</td>\n",
       "      <td>us</td>\n",
       "      <td>6 minutes</td>\n",
       "      <td>triangle</td>\n",
       "      <td>On New Years Eve I went outside to hear the ce...</td>\n",
       "    </tr>\n",
       "    <tr>\n",
       "      <th>3</th>\n",
       "      <td>01/01/2010</td>\n",
       "      <td>el cajon</td>\n",
       "      <td>ca</td>\n",
       "      <td>us</td>\n",
       "      <td>12 minutes</td>\n",
       "      <td>triangle</td>\n",
       "      <td>3 Red objects hovering over El Cajon CA</td>\n",
       "    </tr>\n",
       "    <tr>\n",
       "      <th>4</th>\n",
       "      <td>01/01/2010</td>\n",
       "      <td>fresno</td>\n",
       "      <td>ca</td>\n",
       "      <td>us</td>\n",
       "      <td>1 min</td>\n",
       "      <td>light</td>\n",
       "      <td>Fresno cal. bright light hovers over head then...</td>\n",
       "    </tr>\n",
       "  </tbody>\n",
       "</table>\n",
       "</div>"
      ],
      "text/plain": [
       "     datetime      city state country durationMinutes     shape  \\\n",
       "0  01/01/2010    benton    ar      us         5 mins.    circle   \n",
       "1  01/01/2010    bonita    ca      us      13 minutes     light   \n",
       "2  01/01/2010  el cajon    ca      us       6 minutes  triangle   \n",
       "3  01/01/2010  el cajon    ca      us      12 minutes  triangle   \n",
       "4  01/01/2010    fresno    ca      us           1 min     light   \n",
       "\n",
       "                                            comments  \n",
       "0  4 bright green circles high in the sky going i...  \n",
       "1  Three bright red lights witnessed floating sta...  \n",
       "2  On New Years Eve I went outside to hear the ce...  \n",
       "3            3 Red objects hovering over El Cajon CA  \n",
       "4  Fresno cal. bright light hovers over head then...  "
      ]
     },
     "execution_count": 6,
     "metadata": {},
     "output_type": "execute_result"
    }
   ],
   "source": [
    "df = df[[\"datetime\",\"city\",\"state\", \"country\", \"durationMinutes\", \"shape\", \"comments\"]]\n",
    "df.head()"
   ]
  },
  {
   "cell_type": "code",
   "execution_count": 7,
   "metadata": {},
   "outputs": [],
   "source": [
    "df.set_index('datetime', inplace=True)"
   ]
  },
  {
   "cell_type": "code",
   "execution_count": 8,
   "metadata": {},
   "outputs": [
    {
     "data": {
      "text/html": [
       "<div>\n",
       "<style scoped>\n",
       "    .dataframe tbody tr th:only-of-type {\n",
       "        vertical-align: middle;\n",
       "    }\n",
       "\n",
       "    .dataframe tbody tr th {\n",
       "        vertical-align: top;\n",
       "    }\n",
       "\n",
       "    .dataframe thead th {\n",
       "        text-align: right;\n",
       "    }\n",
       "</style>\n",
       "<table border=\"1\" class=\"dataframe\">\n",
       "  <thead>\n",
       "    <tr style=\"text-align: right;\">\n",
       "      <th></th>\n",
       "      <th>city</th>\n",
       "      <th>state</th>\n",
       "      <th>country</th>\n",
       "      <th>durationMinutes</th>\n",
       "      <th>shape</th>\n",
       "      <th>comments</th>\n",
       "    </tr>\n",
       "    <tr>\n",
       "      <th>datetime</th>\n",
       "      <th></th>\n",
       "      <th></th>\n",
       "      <th></th>\n",
       "      <th></th>\n",
       "      <th></th>\n",
       "      <th></th>\n",
       "    </tr>\n",
       "  </thead>\n",
       "  <tbody>\n",
       "    <tr>\n",
       "      <th>01/01/2010</th>\n",
       "      <td>benton</td>\n",
       "      <td>ar</td>\n",
       "      <td>us</td>\n",
       "      <td>5 mins.</td>\n",
       "      <td>circle</td>\n",
       "      <td>4 bright green circles high in the sky going i...</td>\n",
       "    </tr>\n",
       "    <tr>\n",
       "      <th>01/01/2010</th>\n",
       "      <td>bonita</td>\n",
       "      <td>ca</td>\n",
       "      <td>us</td>\n",
       "      <td>13 minutes</td>\n",
       "      <td>light</td>\n",
       "      <td>Three bright red lights witnessed floating sta...</td>\n",
       "    </tr>\n",
       "    <tr>\n",
       "      <th>01/01/2010</th>\n",
       "      <td>el cajon</td>\n",
       "      <td>ca</td>\n",
       "      <td>us</td>\n",
       "      <td>6 minutes</td>\n",
       "      <td>triangle</td>\n",
       "      <td>On New Years Eve I went outside to hear the ce...</td>\n",
       "    </tr>\n",
       "    <tr>\n",
       "      <th>01/01/2010</th>\n",
       "      <td>el cajon</td>\n",
       "      <td>ca</td>\n",
       "      <td>us</td>\n",
       "      <td>12 minutes</td>\n",
       "      <td>triangle</td>\n",
       "      <td>3 Red objects hovering over El Cajon CA</td>\n",
       "    </tr>\n",
       "    <tr>\n",
       "      <th>01/01/2010</th>\n",
       "      <td>fresno</td>\n",
       "      <td>ca</td>\n",
       "      <td>us</td>\n",
       "      <td>1 min</td>\n",
       "      <td>light</td>\n",
       "      <td>Fresno cal. bright light hovers over head then...</td>\n",
       "    </tr>\n",
       "  </tbody>\n",
       "</table>\n",
       "</div>"
      ],
      "text/plain": [
       "                city state country durationMinutes     shape  \\\n",
       "datetime                                                       \n",
       "01/01/2010    benton    ar      us         5 mins.    circle   \n",
       "01/01/2010    bonita    ca      us      13 minutes     light   \n",
       "01/01/2010  el cajon    ca      us       6 minutes  triangle   \n",
       "01/01/2010  el cajon    ca      us      12 minutes  triangle   \n",
       "01/01/2010    fresno    ca      us           1 min     light   \n",
       "\n",
       "                                                     comments  \n",
       "datetime                                                       \n",
       "01/01/2010  4 bright green circles high in the sky going i...  \n",
       "01/01/2010  Three bright red lights witnessed floating sta...  \n",
       "01/01/2010  On New Years Eve I went outside to hear the ce...  \n",
       "01/01/2010            3 Red objects hovering over El Cajon CA  \n",
       "01/01/2010  Fresno cal. bright light hovers over head then...  "
      ]
     },
     "execution_count": 8,
     "metadata": {},
     "output_type": "execute_result"
    }
   ],
   "source": [
    "df.head()"
   ]
  },
  {
   "cell_type": "code",
   "execution_count": 9,
   "metadata": {},
   "outputs": [],
   "source": [
    "df.to_html('conv_Table.html')"
   ]
  },
  {
   "cell_type": "code",
   "execution_count": null,
   "metadata": {},
   "outputs": [],
   "source": []
  }
 ],
 "metadata": {
  "kernelspec": {
   "display_name": "Python 3",
   "language": "python",
   "name": "python3"
  },
  "language_info": {
   "codemirror_mode": {
    "name": "ipython",
    "version": 3
   },
   "file_extension": ".py",
   "mimetype": "text/x-python",
   "name": "python",
   "nbconvert_exporter": "python",
   "pygments_lexer": "ipython3",
   "version": "3.6.4"
  }
 },
 "nbformat": 4,
 "nbformat_minor": 2
}
